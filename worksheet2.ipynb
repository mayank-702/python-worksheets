{
  "nbformat": 4,
  "nbformat_minor": 0,
  "metadata": {
    "colab": {
      "provenance": []
    },
    "kernelspec": {
      "name": "python3",
      "display_name": "Python 3"
    },
    "language_info": {
      "name": "python"
    }
  },
  "cells": [
    {
      "cell_type": "code",
      "execution_count": 1,
      "metadata": {
        "id": "fzflPisDwDJg"
      },
      "outputs": [],
      "source": [
        "L = [11, 12, 13, 14]\n",
        "\n",
        "# (i) Add 50 and 60 to L\n",
        "L.append(50)\n",
        "L.append(60)\n",
        "\n",
        "# (ii) Remove 11 and 13 from L\n",
        "L.remove(11)\n",
        "L.remove(13)\n",
        "\n",
        "# (iii) Sort L in ascending order\n",
        "L.sort()\n",
        "\n",
        "# (iv) Sort L in descending order\n",
        "L.sort(reverse=True)\n",
        "\n",
        "# (v) Search for 13 in L\n",
        "found = 13 in L\n",
        "\n",
        "# (vi) Count the number of elements in L\n",
        "count = len(L)\n",
        "\n",
        "# (vii) Sum all the elements in L\n",
        "total_sum = sum(L)\n",
        "\n",
        "# (viii) Sum all odd numbers in L\n",
        "odd_sum = sum(x for x in L if x % 2 != 0)\n",
        "\n",
        "# (ix) Sum all even numbers in L\n",
        "even_sum = sum(x for x in L if x % 2 == 0)\n",
        "\n",
        "# (x) Sum all prime numbers in L\n",
        "def is_prime(n):\n",
        "    if n < 2:\n",
        "        return False\n",
        "    for i in range(2, int(n**0.5) + 1):\n",
        "        if n % i == 0:\n",
        "            return False\n",
        "    return True\n",
        "\n",
        "prime_sum = sum(x for x in L if is_prime(x))\n",
        "\n",
        "# (xi) Clear all the elements in L\n",
        "L.clear()\n",
        "\n",
        "# (xii) Delete L\n",
        "del L\n"
      ]
    },
    {
      "cell_type": "code",
      "source": [
        "numbers = [1, 2, 3, 4, 5]\n",
        "total_sum = 0\n",
        "for num in numbers:\n",
        "    total_sum += num\n",
        "print(total_sum)\n"
      ],
      "metadata": {
        "colab": {
          "base_uri": "https://localhost:8080/"
        },
        "id": "8vmzVMGYwR0M",
        "outputId": "bf942ac2-2b65-419e-e1fd-87d7e55c55d2"
      },
      "execution_count": 2,
      "outputs": [
        {
          "output_type": "stream",
          "name": "stdout",
          "text": [
            "15\n"
          ]
        }
      ]
    },
    {
      "cell_type": "code",
      "source": [
        "numbers = [1, 2, 3, 4]\n",
        "product = 1\n",
        "for num in numbers:\n",
        "    product *= num\n",
        "print(product)\n"
      ],
      "metadata": {
        "colab": {
          "base_uri": "https://localhost:8080/"
        },
        "id": "1uQFqeIWwUUn",
        "outputId": "ff31748c-a784-48c5-9772-1c206f6973a8"
      },
      "execution_count": 3,
      "outputs": [
        {
          "output_type": "stream",
          "name": "stdout",
          "text": [
            "24\n"
          ]
        }
      ]
    },
    {
      "cell_type": "code",
      "source": [
        "array = [[['*' for _ in range(6)] for _ in range(4)] for _ in range(3)]\n",
        "print(array)\n"
      ],
      "metadata": {
        "colab": {
          "base_uri": "https://localhost:8080/"
        },
        "id": "S-vPrEsswV6g",
        "outputId": "7b5ccecd-081e-4f46-b3e5-cdfdac52a8ab"
      },
      "execution_count": 4,
      "outputs": [
        {
          "output_type": "stream",
          "name": "stdout",
          "text": [
            "[[['*', '*', '*', '*', '*', '*'], ['*', '*', '*', '*', '*', '*'], ['*', '*', '*', '*', '*', '*'], ['*', '*', '*', '*', '*', '*']], [['*', '*', '*', '*', '*', '*'], ['*', '*', '*', '*', '*', '*'], ['*', '*', '*', '*', '*', '*'], ['*', '*', '*', '*', '*', '*']], [['*', '*', '*', '*', '*', '*'], ['*', '*', '*', '*', '*', '*'], ['*', '*', '*', '*', '*', '*'], ['*', '*', '*', '*', '*', '*']]]\n"
          ]
        }
      ]
    },
    {
      "cell_type": "code",
      "source": [
        "D = {1: 5.6, 2: 7.8, 3: 6.6, 4: 8.7, 5: 7.7}\n",
        "\n",
        "# (i) Add new entry key=8, value=8.8\n",
        "D[8] = 8.8\n",
        "\n",
        "# (ii) Remove key=2\n",
        "D.pop(2)\n",
        "\n",
        "# (iii) Check whether key 6 is present\n",
        "key_exists = 6 in D\n",
        "\n",
        "# (iv) Count the number of elements present in D\n",
        "count = len(D)\n",
        "\n",
        "# (v) Sum all the values present in D\n",
        "total_sum = sum(D.values())\n",
        "\n",
        "# (vi) Update the value of key 3 to 7.1\n",
        "D[3] = 7.1\n",
        "\n",
        "# (vii) Clear the dictionary\n",
        "D.clear()\n",
        "\n"
      ],
      "metadata": {
        "id": "iq4zxrRLwXdD"
      },
      "execution_count": 19,
      "outputs": []
    },
    {
      "cell_type": "code",
      "source": [
        "S1 = {10, 20, 30, 40, 50, 60}\n",
        "S2 = {40, 50, 60, 70, 80, 90}\n",
        "\n",
        "# (i) Add 55 and 66 in Set S1\n",
        "S1.update([55, 66])\n",
        "\n",
        "# (ii) Remove 10 and 30 from Set S1\n",
        "S1.discard(10)\n",
        "S1.discard(30)\n",
        "\n",
        "# (iii) Check whether 40 is present in S1\n",
        "is_present = 40 in S1\n",
        "\n",
        "# (iv) Find the union of S1 and S2\n",
        "union_set = S1.union(S2)\n",
        "\n",
        "# (v) Find the intersection between S1 and S2\n",
        "intersection_set = S1.intersection(S2)\n",
        "\n",
        "# (vi) Find the difference S1 - S2\n",
        "difference_set = S1.difference(S2)\n"
      ],
      "metadata": {
        "id": "ByM0lgQJwZHV"
      },
      "execution_count": 20,
      "outputs": []
    },
    {
      "cell_type": "code",
      "source": [
        "import random\n",
        "import string\n",
        "\n",
        "# (i) Print 100 random strings whose length is between 6 and 8\n",
        "for _ in range(100):\n",
        "    length = random.randint(6, 8)\n",
        "    random_string = ''.join(random.choices(string.ascii_letters, k=length))\n",
        "    print(random_string)\n",
        "\n",
        "# (ii) Print all prime numbers between 600 and 800\n",
        "for num in range(600, 801):\n",
        "    if all(num % i != 0 for i in range(2, int(num**0.5) + 1)):\n",
        "        print(num)\n",
        "\n",
        "# (iii) Print all numbers between 100 and 1000 that are divisible by 7 and 9\n",
        "for num in range(100, 1001):\n",
        "    if num % 7 == 0 and num % 9 == 0:\n",
        "        print(num)\n"
      ],
      "metadata": {
        "colab": {
          "base_uri": "https://localhost:8080/"
        },
        "id": "UmXZWBlRyY1O",
        "outputId": "4615e246-e0ab-4823-d694-d6e0ce670e32"
      },
      "execution_count": 7,
      "outputs": [
        {
          "output_type": "stream",
          "name": "stdout",
          "text": [
            "IEnNeTE\n",
            "ReMccjna\n",
            "FfIxwEmI\n",
            "ruQIVlZ\n",
            "zFfjENX\n",
            "WTuqVHu\n",
            "riuidY\n",
            "ztKqrTi\n",
            "ZLyXSmNV\n",
            "ZIJMaYK\n",
            "kEoPbW\n",
            "rvscfRTl\n",
            "wifkUNo\n",
            "zVYUoAC\n",
            "KJjbLQI\n",
            "qxAHHK\n",
            "XzwXNA\n",
            "ZDAGQZ\n",
            "PpLMvJ\n",
            "GTeTwk\n",
            "zkPayaJw\n",
            "ggIrplZD\n",
            "biKWIrcU\n",
            "pRKYsuPP\n",
            "yjLBeBV\n",
            "DJhjtrTe\n",
            "eiiDlSqt\n",
            "rbLlpK\n",
            "YYqPrc\n",
            "pEDtqu\n",
            "zMSkoA\n",
            "jnpOAQ\n",
            "nYeAKosM\n",
            "PRgkqC\n",
            "tsZfGjpK\n",
            "MJwhRF\n",
            "UZidRB\n",
            "EAsBMF\n",
            "oFLvAUy\n",
            "GknEZMRG\n",
            "OOreqPv\n",
            "SyBYVAt\n",
            "BoJznadi\n",
            "VfMAZqIw\n",
            "QkcsTjBc\n",
            "fYyFHFJd\n",
            "oaoeBFJ\n",
            "jaNIvM\n",
            "RlgaLu\n",
            "EOiULN\n",
            "vhNtBMEx\n",
            "tfcZDny\n",
            "nBHqNqt\n",
            "PtYDAc\n",
            "OjKbEWdX\n",
            "KnjYER\n",
            "ipSkZga\n",
            "siSSaj\n",
            "aCvzkWgt\n",
            "GmeNiZ\n",
            "hczIxPYR\n",
            "WWnCDrO\n",
            "mnNtJi\n",
            "nZKwbjl\n",
            "wwuaAox\n",
            "xDeJxEA\n",
            "mYTGlMvq\n",
            "ymXIfkGY\n",
            "SWAQsKRr\n",
            "rIlgbAdP\n",
            "dcWpIBJm\n",
            "IozOpFL\n",
            "VmadEmJ\n",
            "UfUKlnv\n",
            "zSasMA\n",
            "NKoyPD\n",
            "tpTsqNTN\n",
            "IeuOIxb\n",
            "ElxaZlZJ\n",
            "mUhggseN\n",
            "mhcLPKUV\n",
            "UXtDaHB\n",
            "SDGPemEp\n",
            "NUXDyR\n",
            "WdoCgPn\n",
            "ytiqLjX\n",
            "QJUJWnx\n",
            "uFESlfg\n",
            "CZwfHbU\n",
            "nSSWsS\n",
            "LqphkyJf\n",
            "YLqfEICI\n",
            "OhyADR\n",
            "xVqVYZS\n",
            "FnKIQaio\n",
            "CLmEUG\n",
            "cCfxSWv\n",
            "oAZEfZgk\n",
            "vTCGvn\n",
            "QBhnJbR\n",
            "601\n",
            "607\n",
            "613\n",
            "617\n",
            "619\n",
            "631\n",
            "641\n",
            "643\n",
            "647\n",
            "653\n",
            "659\n",
            "661\n",
            "673\n",
            "677\n",
            "683\n",
            "691\n",
            "701\n",
            "709\n",
            "719\n",
            "727\n",
            "733\n",
            "739\n",
            "743\n",
            "751\n",
            "757\n",
            "761\n",
            "769\n",
            "773\n",
            "787\n",
            "797\n",
            "126\n",
            "189\n",
            "252\n",
            "315\n",
            "378\n",
            "441\n",
            "504\n",
            "567\n",
            "630\n",
            "693\n",
            "756\n",
            "819\n",
            "882\n",
            "945\n"
          ]
        }
      ]
    },
    {
      "cell_type": "code",
      "source": [
        "exam_st_date = (11, 12, 2014)\n",
        "print(f\"The examination will start from: {exam_st_date[0]}/{exam_st_date[1]}/{exam_st_date[2]}\")\n"
      ],
      "metadata": {
        "colab": {
          "base_uri": "https://localhost:8080/"
        },
        "id": "3UPpgucnyan4",
        "outputId": "4e86229d-9e17-478b-e68a-3dd41605ba42"
      },
      "execution_count": 8,
      "outputs": [
        {
          "output_type": "stream",
          "name": "stdout",
          "text": [
            "The examination will start from: 11/12/2014\n"
          ]
        }
      ]
    },
    {
      "cell_type": "code",
      "source": [
        "numbers = [10, 23, 45, 67, 50, 90]\n",
        "for num in numbers:\n",
        "    if num % 5 == 0:\n",
        "        print(num)\n"
      ],
      "metadata": {
        "colab": {
          "base_uri": "https://localhost:8080/"
        },
        "id": "vp1I1VkZygab",
        "outputId": "da03f09a-c31c-4d00-8603-d29d21e723bf"
      },
      "execution_count": 9,
      "outputs": [
        {
          "output_type": "stream",
          "name": "stdout",
          "text": [
            "10\n",
            "45\n",
            "50\n",
            "90\n"
          ]
        }
      ]
    },
    {
      "cell_type": "code",
      "source": [
        "num = int(input(\"Enter a number: \"))\n",
        "is_even = num % 2 == 0\n",
        "print(f\"{num} is {'even' if is_even else 'odd'}.\")\n"
      ],
      "metadata": {
        "colab": {
          "base_uri": "https://localhost:8080/"
        },
        "id": "-P9AeLkuyoo_",
        "outputId": "c661213d-435a-46d5-a848-aae5203e9e96"
      },
      "execution_count": 10,
      "outputs": [
        {
          "output_type": "stream",
          "name": "stdout",
          "text": [
            "Enter a number: 5\n",
            "5 is odd.\n"
          ]
        }
      ]
    },
    {
      "cell_type": "code",
      "source": [
        "string = \"Emma is good at coding. Emma is a developer.\"\n",
        "count = string.count(\"Emma\")\n",
        "print(\"Emma appears\", count, \"times.\")\n"
      ],
      "metadata": {
        "colab": {
          "base_uri": "https://localhost:8080/"
        },
        "id": "RIzGdIbiyqSw",
        "outputId": "6c0d67bb-2230-42e9-a8cf-45ee2a0f6bee"
      },
      "execution_count": 11,
      "outputs": [
        {
          "output_type": "stream",
          "name": "stdout",
          "text": [
            "Emma appears 2 times.\n"
          ]
        }
      ]
    },
    {
      "cell_type": "code",
      "source": [
        "list1 = [1, 2, 3, 4, 5, 6, 7]\n",
        "list2 = [10, 11, 12, 13, 14, 15, 16]\n",
        "\n",
        "new_list = [x for x in list1 if x % 2 != 0] + [y for y in list2 if y % 2 == 0]\n",
        "print(\"New list:\", new_list)\n"
      ],
      "metadata": {
        "colab": {
          "base_uri": "https://localhost:8080/"
        },
        "id": "6I8EtjY9yuyY",
        "outputId": "3ba40149-e929-4b67-c1c8-3bd47d87483a"
      },
      "execution_count": 12,
      "outputs": [
        {
          "output_type": "stream",
          "name": "stdout",
          "text": [
            "New list: [1, 3, 5, 7, 10, 12, 14, 16]\n"
          ]
        }
      ]
    },
    {
      "cell_type": "code",
      "source": [],
      "metadata": {
        "id": "vB2mvCAqy-GY"
      },
      "execution_count": null,
      "outputs": []
    }
  ]
}