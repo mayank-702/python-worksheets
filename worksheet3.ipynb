{
  "nbformat": 4,
  "nbformat_minor": 0,
  "metadata": {
    "colab": {
      "provenance": []
    },
    "kernelspec": {
      "name": "python3",
      "display_name": "Python 3"
    },
    "language_info": {
      "name": "python"
    }
  },
  "cells": [
    {
      "cell_type": "code",
      "execution_count": 1,
      "metadata": {
        "colab": {
          "base_uri": "https://localhost:8080/"
        },
        "id": "le6ILB0E52Uc",
        "outputId": "fc4ec360-6f0b-40e0-a16a-4cadb0b2d857"
      },
      "outputs": [
        {
          "output_type": "stream",
          "name": "stdout",
          "text": [
            "10\n",
            "7\n"
          ]
        }
      ],
      "source": [
        "#1\n",
        "def difference_from_17(n):\n",
        "    if n > 17:\n",
        "        return 2 * abs(n - 17)\n",
        "    else:\n",
        "        return 17 - n\n",
        "\n",
        "print(difference_from_17(22))  # Output: 10\n",
        "print(difference_from_17(10))  # Output: 7\n"
      ]
    },
    {
      "cell_type": "code",
      "source": [
        "def in_range(n):\n",
        "    return (100 <= n <= 1000) or (n == 2000)\n",
        "\n",
        "# Test\n",
        "print(in_range(150))   # Output: True\n",
        "print(in_range(2000))  # Output: True\n",
        "print(in_range(5000))  # Output: False\n"
      ],
      "metadata": {
        "colab": {
          "base_uri": "https://localhost:8080/"
        },
        "id": "YlVL7NQU6RkZ",
        "outputId": "748ef8c6-d0ed-42a2-b313-f4b45c2ee9c5"
      },
      "execution_count": 2,
      "outputs": [
        {
          "output_type": "stream",
          "name": "stdout",
          "text": [
            "True\n",
            "True\n",
            "False\n"
          ]
        }
      ]
    },
    {
      "cell_type": "code",
      "source": [
        "def reverse_string(s):\n",
        "    return s[::-1]\n",
        "\n",
        "# Test\n",
        "print(reverse_string(\"hello\"))\n"
      ],
      "metadata": {
        "colab": {
          "base_uri": "https://localhost:8080/"
        },
        "id": "XZt4yi646jNr",
        "outputId": "0e513961-4941-4015-cd1d-55375f949066"
      },
      "execution_count": 3,
      "outputs": [
        {
          "output_type": "stream",
          "name": "stdout",
          "text": [
            "olleh\n"
          ]
        }
      ]
    },
    {
      "cell_type": "code",
      "source": [
        "def count_upper_lower(s):\n",
        "    upper_count = sum(1 for c in s if c.isupper())\n",
        "    lower_count = sum(1 for c in s if c.islower())\n",
        "    return upper_count, lower_count\n",
        "\n",
        "# Test\n",
        "upper, lower = count_upper_lower(\"Hello World\")\n",
        "print(f\"Uppercase: {upper}, Lowercase: {lower}\")\n"
      ],
      "metadata": {
        "colab": {
          "base_uri": "https://localhost:8080/"
        },
        "id": "CHVPPIyP6qpE",
        "outputId": "e970445c-9f1f-4cf6-da87-46d0b81475fa"
      },
      "execution_count": 4,
      "outputs": [
        {
          "output_type": "stream",
          "name": "stdout",
          "text": [
            "Uppercase: 2, Lowercase: 8\n"
          ]
        }
      ]
    },
    {
      "cell_type": "code",
      "source": [
        "def distinct_elements(lst):\n",
        "    return list(set(lst))\n",
        "\n",
        "# Test\n",
        "print(distinct_elements([1, 2, 2, 3, 4, 4, 5]))  # Output: [1, 2, 3, 4, 5]\n"
      ],
      "metadata": {
        "colab": {
          "base_uri": "https://localhost:8080/"
        },
        "id": "Dk7y4t336wPw",
        "outputId": "569858fe-3ec5-46f9-84ec-2bdf2df497b8"
      },
      "execution_count": 5,
      "outputs": [
        {
          "output_type": "stream",
          "name": "stdout",
          "text": [
            "[1, 2, 3, 4, 5]\n"
          ]
        }
      ]
    },
    {
      "cell_type": "code",
      "source": [
        "def even_numbers(lst):\n",
        "    return [num for num in lst if num % 2 == 0]\n",
        "\n",
        "# Test\n",
        "print(even_numbers([1, 2, 3, 4, 5, 6, 7, 8, 9]))\n"
      ],
      "metadata": {
        "colab": {
          "base_uri": "https://localhost:8080/"
        },
        "id": "fSL-p8zN6ycu",
        "outputId": "2dce47d3-5993-4136-f1c1-216210339eea"
      },
      "execution_count": 6,
      "outputs": [
        {
          "output_type": "stream",
          "name": "stdout",
          "text": [
            "[2, 4, 6, 8]\n"
          ]
        }
      ]
    },
    {
      "cell_type": "code",
      "source": [
        "def outer_function():\n",
        "    def inner_function():\n",
        "        return \"Hello from inner function!\"\n",
        "\n",
        "    return inner_function()\n",
        "\n",
        "# Test\n",
        "print(outer_function())\n"
      ],
      "metadata": {
        "colab": {
          "base_uri": "https://localhost:8080/"
        },
        "id": "JykyL6XM60hv",
        "outputId": "c3b4bc51-2b27-4ba2-cf32-ad2ccd27b3ce"
      },
      "execution_count": 7,
      "outputs": [
        {
          "output_type": "stream",
          "name": "stdout",
          "text": [
            "Hello from inner function!\n"
          ]
        }
      ]
    },
    {
      "cell_type": "code",
      "source": [
        "def student(name, age):\n",
        "    student.name = name\n",
        "    student.age = age\n",
        "    return f\"Name: {student.name}, Age: {student.age}\"\n",
        "\n",
        "# Test\n",
        "print(student(\"Alice\", 21))\n"
      ],
      "metadata": {
        "colab": {
          "base_uri": "https://localhost:8080/"
        },
        "id": "vRnCpkJV63yu",
        "outputId": "090b6397-2d58-4389-f49a-9b18d07d8d22"
      },
      "execution_count": 8,
      "outputs": [
        {
          "output_type": "stream",
          "name": "stdout",
          "text": [
            "Name: Alice, Age: 21\n"
          ]
        }
      ]
    },
    {
      "cell_type": "code",
      "source": [
        "class Student:\n",
        "    def __init__(self, student_id, student_name):\n",
        "        self.student_id = student_id\n",
        "        self.student_name = student_name\n",
        "        self.student_class = None\n",
        "\n",
        "    def display_attributes(self):\n",
        "        print(f\"ID: {self.student_id}, Name: {self.student_name}, Class: {self.student_class}\")\n",
        "\n",
        "# Test\n",
        "student = Student(1, \"Alice\")\n",
        "student.student_class = \"10th Grade\"\n",
        "student.display_attributes()\n"
      ],
      "metadata": {
        "colab": {
          "base_uri": "https://localhost:8080/"
        },
        "id": "K1wD2YbW7A9l",
        "outputId": "cae77566-08e2-4708-b75f-2c7449344df1"
      },
      "execution_count": 9,
      "outputs": [
        {
          "output_type": "stream",
          "name": "stdout",
          "text": [
            "ID: 1, Name: Alice, Class: 10th Grade\n"
          ]
        }
      ]
    },
    {
      "cell_type": "code",
      "source": [
        "class Student:\n",
        "    def __init__(self, student_id, student_name):\n",
        "        self.student_id = student_id\n",
        "        self.student_name = student_name\n",
        "\n",
        "# Test\n",
        "student1 = Student(1, \"Alice\")\n",
        "student2 = Student(2, \"Bob\")\n",
        "\n",
        "print(f\"Student 1: ID = {student1.student_id}, Name = {student1.student_name}\")\n",
        "print(f\"Student 2: ID = {student2.student_id}, Name = {student2.student_name}\")\n"
      ],
      "metadata": {
        "colab": {
          "base_uri": "https://localhost:8080/"
        },
        "id": "ALfBFqnk7DbE",
        "outputId": "a6ed8215-00bf-421d-ba49-ac8275b634e3"
      },
      "execution_count": 10,
      "outputs": [
        {
          "output_type": "stream",
          "name": "stdout",
          "text": [
            "Student 1: ID = 1, Name = Alice\n",
            "Student 2: ID = 2, Name = Bob\n"
          ]
        }
      ]
    },
    {
      "cell_type": "code",
      "source": [
        "import math\n",
        "\n",
        "class Circle:\n",
        "    def __init__(self, radius):\n",
        "        self.radius = radius\n",
        "\n",
        "    def area(self):\n",
        "        return math.pi * self.radius ** 2\n",
        "\n",
        "    def perimeter(self):\n",
        "        return 2 * math.pi * self.radius\n",
        "\n",
        "# Test\n",
        "circle = Circle(5)\n",
        "print(f\"Area: {circle.area():.2f}, Perimeter: {circle.perimeter():.2f}\")\n"
      ],
      "metadata": {
        "colab": {
          "base_uri": "https://localhost:8080/"
        },
        "id": "KEFeHfeF7TVj",
        "outputId": "54e49e12-29b7-4995-90fd-1f4811f08a6d"
      },
      "execution_count": 11,
      "outputs": [
        {
          "output_type": "stream",
          "name": "stdout",
          "text": [
            "Area: 78.54, Perimeter: 31.42\n"
          ]
        }
      ]
    },
    {
      "cell_type": "code",
      "source": [
        "class StringManipulation:\n",
        "    def __init__(self):\n",
        "        self.string = \"\"\n",
        "\n",
        "    def get_String(self):\n",
        "        self.string = input(\"Enter a string: \")\n",
        "\n",
        "    def print_String(self):\n",
        "        print(self.string.upper())\n",
        "\n",
        "# Test\n",
        "s = StringManipulation()\n",
        "s.get_String()\n",
        "s.print_String()\n"
      ],
      "metadata": {
        "colab": {
          "base_uri": "https://localhost:8080/"
        },
        "id": "EW_9BR4i7Zqg",
        "outputId": "ca46855b-beb2-4ef1-9048-d0a564b2b6b1"
      },
      "execution_count": 12,
      "outputs": [
        {
          "output_type": "stream",
          "name": "stdout",
          "text": [
            "Enter a string: mayank\n",
            "MAYANK\n"
          ]
        }
      ]
    },
    {
      "cell_type": "code",
      "source": [],
      "metadata": {
        "id": "FQbVsoQ67ex4"
      },
      "execution_count": null,
      "outputs": []
    }
  ]
}